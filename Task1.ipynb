{
 "cells": [
  {
   "cell_type": "code",
   "execution_count": 48,
   "id": "a46f9ffb-ab3a-4ec2-9d89-2f08e805f1b0",
   "metadata": {},
   "outputs": [
    {
     "name": "stdout",
     "output_type": "stream",
     "text": [
      "Prashanti - prashantisharma6@gmail.com\n",
      "None - prashantisharma16@gmail.com\n",
      "Russell - Russel.winfield@example.com\n",
      "Karine - karine.ruby@example.com\n",
      "Ayumu - ayumu.hirano@example.com\n"
     ]
    }
   ],
   "source": [
    "import requests\n",
    "\n",
    "SHOPIFY_STORE = \"hello-world-organization.myshopify.com\"\n",
    "ACCESS_TOKEN = \"<Token>\"\n",
    "\n",
    "headers = {\n",
    "    \"X-Shopify-Access-Token\": ACCESS_TOKEN,\n",
    "    \"Content-Type\": \"application/json\"\n",
    "}\n",
    "\n",
    "url = f\"https://{SHOPIFY_STORE}/admin/api/2023-04/customers.json\"\n",
    "\n",
    "response = requests.get(url, headers=headers)\n",
    "\n",
    "if response.status_code == 200:\n",
    "    customers = response.json()[\"customers\"]\n",
    "    for c in customers:\n",
    "        print(f\"{c['first_name']} - {c['email']}\")\n",
    "else:\n",
    "    print(\"Error:\", response.status_code, response.text)\n"
   ]
  },
  {
   "cell_type": "code",
   "execution_count": 49,
   "id": "81155eea-4ff7-4082-b4bb-94a44981e68d",
   "metadata": {},
   "outputs": [],
   "source": [
    "orders_url = f\"https://{SHOPIFY_STORE}/admin/api/2023-04/orders.json?status=any\"\n",
    "\n",
    "orders_response = requests.get(orders_url, headers=headers)\n",
    "\n",
    "orders = orders_response.json().get(\"orders\", [])\n"
   ]
  },
  {
   "cell_type": "code",
   "execution_count": 50,
   "id": "e974f43a-f66e-4db0-bc6c-1bcec9fc4c02",
   "metadata": {},
   "outputs": [],
   "source": [
    "from datetime import datetime\n",
    "\n",
    "def calculate_rfm(orders):\n",
    "    rfm = {}\n",
    "    for order in orders:\n",
    "        customer_id = order['customer']['id']\n",
    "        total = float(order['total_price'])\n",
    "        created = datetime.strptime(order['created_at'], \"%Y-%m-%dT%H:%M:%S%z\")\n",
    "        \n",
    "        if customer_id not in rfm:\n",
    "            rfm[customer_id] = {\n",
    "                \"recency\": (datetime.now(created.tzinfo) - created).days,\n",
    "                \"frequency\": 1,\n",
    "                \"monetary\": total\n",
    "            }\n",
    "        else:\n",
    "            rfm[customer_id][\"frequency\"] += 1\n",
    "            rfm[customer_id][\"monetary\"] += total\n",
    "            # recency = min of all purchase dates\n",
    "            rfm[customer_id][\"recency\"] = min(rfm[customer_id][\"recency\"],\n",
    "                                              (datetime.now(created.tzinfo) - created).days)\n",
    "    return rfm\n"
   ]
  },
  {
   "cell_type": "code",
   "execution_count": 51,
   "id": "408b378c-3d00-4574-be65-3944363035bd",
   "metadata": {},
   "outputs": [],
   "source": [
    "offers = [\"10% Off\", \"Free Shipping\", \"Buy 1 Get 1\"]"
   ]
  },
  {
   "cell_type": "code",
   "execution_count": 35,
   "id": "e536427b-6dd8-496e-856e-89241a1baf26",
   "metadata": {},
   "outputs": [],
   "source": [
    "import random\n",
    "\n",
    "class EpsilonGreedyBandit:\n",
    "    def __init__(self, offers, epsilon=0.2):\n",
    "        self.offers = offers\n",
    "        self.epsilon = epsilon\n",
    "        self.counts = {offer: 0 for offer in offers}\n",
    "        self.successes = {offer: 0 for offer in offers}\n",
    "\n",
    "    def select_offer(self):\n",
    "        if random.random() < self.epsilon:\n",
    "            return random.choice(self.offers)  # explore\n",
    "        else:\n",
    "            success_rates = {\n",
    "                offer: (self.successes[offer] / self.counts[offer]) if self.counts[offer] > 0 else 0\n",
    "                for offer in self.offers\n",
    "            }\n",
    "            return max(success_rates, key=success_rates.get)  # exploit\n",
    "\n",
    "    def update_result(self, offer, success):\n",
    "        self.counts[offer] += 1\n",
    "        self.successes[offer] += success\n"
   ]
  },
  {
   "cell_type": "code",
   "execution_count": 36,
   "id": "b668d2b3-aec7-466d-9ede-d5ae2c7bb3a4",
   "metadata": {},
   "outputs": [
    {
     "name": "stdout",
     "output_type": "stream",
     "text": [
      "Sending offer: 10% Off\n"
     ]
    }
   ],
   "source": [
    "bandit = EpsilonGreedyBandit(offers)\n",
    "\n",
    "# For each customer\n",
    "selected_offer = bandit.select_offer()\n",
    "print(f\"Sending offer: {selected_offer}\")\n"
   ]
  },
  {
   "cell_type": "code",
   "execution_count": 37,
   "id": "864f0dc6-1646-4a75-acad-63f9c435a371",
   "metadata": {},
   "outputs": [],
   "source": [
    "bandit.update_result(selected_offer, success=1)  # or 0"
   ]
  },
  {
   "cell_type": "code",
   "execution_count": 52,
   "id": "638e83e6-c8d4-4b12-a998-55c9b7dd66f8",
   "metadata": {},
   "outputs": [
    {
     "name": "stdout",
     "output_type": "stream",
     "text": [
      "Customer 1: Offer = Buy 1 Get 1\n",
      "Customer 2: Offer = 10% Off\n",
      "Customer 3: Offer = 10% Off\n",
      "Customer 4: Offer = 10% Off\n",
      "Customer 5: Offer = 10% Off\n"
     ]
    }
   ],
   "source": [
    "import random\n",
    "\n",
    "class EpsilonGreedyBandit:\n",
    "    def __init__(self, offers, epsilon=0.2):\n",
    "        self.offers = offers\n",
    "        self.epsilon = epsilon\n",
    "        self.counts = {offer: 0 for offer in offers}\n",
    "        self.successes = {offer: 0 for offer in offers}\n",
    "\n",
    "    def select_offer(self):\n",
    "        if random.random() < self.epsilon:\n",
    "            return random.choice(self.offers)  # explore\n",
    "        else:\n",
    "            success_rates = {\n",
    "                offer: (self.successes[offer] / self.counts[offer]) if self.counts[offer] > 0 else 0\n",
    "                for offer in self.offers\n",
    "            }\n",
    "            return max(success_rates, key=success_rates.get)\n",
    "\n",
    "    def update_result(self, offer, success):\n",
    "        self.counts[offer] += 1\n",
    "        self.successes[offer] += success\n",
    "\n",
    "# Offers available\n",
    "offers = [\"10% Off\", \"Free Shipping\", \"Buy 1 Get 1\"]\n",
    "\n",
    "# Initialize bandit\n",
    "bandit = EpsilonGreedyBandit(offers)\n",
    "\n",
    "# Simulate selection for 5 users\n",
    "for i in range(5):\n",
    "    offer = bandit.select_offer()\n",
    "    print(f\"Customer {i+1}: Offer = {offer}\")\n",
    "    \n",
    "    # Simulate response (clicked = 1 or not = 0)\n",
    "    response = random.choice([0, 1])\n",
    "    bandit.update_result(offer, success=response)\n"
   ]
  },
  {
   "cell_type": "code",
   "execution_count": 53,
   "id": "b8d959dd-d21a-441a-bf9b-fc23de5bf52e",
   "metadata": {},
   "outputs": [
    {
     "name": "stdout",
     "output_type": "stream",
     "text": [
      "\n"
     ]
    }
   ],
   "source": [
    "import requests\n",
    "import json\n",
    "\n",
    "KLAVIYO_API_KEY = \"<key>\"  # Replace with your actual private API key\n",
    "def send_klaviyo_email(email, subject, html_content):\n",
    "    url = \"https://a.klaviyo.com/api/v2/email/send\"  # Corrected endpoint\n",
    "\n",
    "    payload = {\n",
    "        \"to\": [{\"email\": email}],\n",
    "        \"from_email\": \"prashantisharma16@gmail.com\",  # Replace with your sending email\n",
    "        \"from_name\": \"Your Brand Name\",  # Replace with your brand name\n",
    "        \"subject\": subject,\n",
    "        \"html\": html_content,  #  The HTML content of the email.\n",
    "    }\n",
    "    headers = {\n",
    "        \"Content-Type\": \"application/json\",\n",
    "        \"Authorization\": f\"Klaviyo-API-Key {KLAVIYO_API_KEY}\"  # Corrected header\n",
    "    }\n",
    "\n",
    "    try:\n",
    "        response = requests.post(url, data=json.dumps(payload), headers=headers) #changed data\n",
    "        response.raise_for_status()  # Raise an exception for bad status codes\n",
    "        print(f\"Klaviyo email to {email}: {response.status_code} - {response.text}\")\n",
    "    except requests.exceptions.RequestException as e:\n",
    "        print()\n",
    "def main():\n",
    "    offer = bandit.select_offer()\n",
    "    recipient_email = \"prashantisharma16@gmail.com\"  # Replace with the recipient's email\n",
    "    email_subject = \"Special Offer!\"\n",
    "    email_html_content = f\"\"\"\n",
    "    <!DOCTYPE html>\n",
    "    <html>\n",
    "    <head>\n",
    "    <title>Special Offer</title>\n",
    "    </head>\n",
    "    <body>\n",
    "    <div style=\"font-family: Arial, sans-serif; color: #333;\">\n",
    "        <h1 style=\"color: #4CAF50;\">Exclusive Offer Just for You!</h1>\n",
    "        <p>Dear Valued Customer,</p>\n",
    "        <p>We are excited to offer you a special discount of <strong>20% off</strong> on your next purchase.</p>\n",
    "        <p>Use the code: <strong>SPECIAL20 {offer}</strong> at checkout.</p>\n",
    "        <a href=\"https://www.example.com\" style=\"background-color: #4CAF50; color: white; padding: 10px 20px; text-decoration: none; border-radius: 5px;\">Shop Now</a>\n",
    "        <p>This offer is valid for one week only.</p>\n",
    "        <p>Sincerely,</p>\n",
    "        <p>Your Brand</p>\n",
    "    </div>\n",
    "    </body>\n",
    "    </html>\n",
    "    \"\"\"\n",
    "    send_klaviyo_email(recipient_email, email_subject, email_html_content)\n",
    "if __name__ == \"__main__\":\n",
    "    main()"
   ]
  },
  {
   "cell_type": "code",
   "execution_count": 10,
   "id": "2d85c8ce-327f-4d15-99fc-60d4fc71e195",
   "metadata": {},
   "outputs": [],
   "source": [
    "recoverycode = \"<rc>\"\n"
   ]
  },
  {
   "cell_type": "code",
   "execution_count": 54,
   "id": "356eab8b-34d9-47e8-9ba0-8654259b881b",
   "metadata": {},
   "outputs": [
    {
     "name": "stdout",
     "output_type": "stream",
     "text": [
      "Message sent: SID SM6cd70416c44acbe2983ae6b39997fce2\n"
     ]
    }
   ],
   "source": [
    "from twilio.rest import Client\n",
    "\n",
    "# Replace with your Twilio credentials\n",
    "account_sid = '<as>'\n",
    "auth_token = '<at>'\n",
    "client = Client(account_sid, auth_token)\n",
    "\n",
    "from_whatsapp_number = 'whatsapp:+14155238886'  # Twilio Sandbox Number\n",
    "to_whatsapp_number = 'whatsapp:+919978478332'    # Customer’s WhatsApp number\n",
    "offer = bandit.select_offer()\n",
    "\n",
    "# Send using template\n",
    "message = client.messages.create(\n",
    "    from_=from_whatsapp_number,\n",
    "    to=to_whatsapp_number,\n",
    "    body= f\"Hi Prashant! 🎁 You have an exclusive offer waiting. Claim it: {offer}\"\n",
    ")\n",
    "\n",
    "print(f\"Message sent: SID {message.sid}\")"
   ]
  },
  {
   "cell_type": "code",
   "execution_count": null,
   "id": "7c6aa8fc-742f-4662-b3d1-aedb92930470",
   "metadata": {},
   "outputs": [],
   "source": [
    "from twilio.rest import Client\n",
    "\n",
    "TWILIO_SID = \"your_twilio_sid\"\n",
    "TWILIO_AUTH_TOKEN = \"your_twilio_auth_token\"\n",
    "TWILIO_WHATSAPP_NUMBER = \"whatsapp:+14155238886\"  # Twilio Sandbox number\n",
    "\n",
    "client = Client(TWILIO_SID, TWILIO_AUTH_TOKEN)\n",
    "\n",
    "def send_whatsapp(phone_number, name, offer):\n",
    "    message = client.messages.create(\n",
    "        from_=TWILIO_WHATSAPP_NUMBER,\n",
    "        to=f\"whatsapp:{phone_number}\",\n",
    "        body=f\"Hi {name}, we've got a special offer for you: {offer}\"\n",
    "    )\n",
    "    print(f\"WhatsApp sent to {phone_number}: SID={message.sid}\")"
   ]
  },
  {
   "cell_type": "code",
   "execution_count": null,
   "id": "96081b30-84bc-43cb-8f2a-8d2c3f3b6079",
   "metadata": {},
   "outputs": [],
   "source": [
    "for customer in customers:\n",
    "    offer = bandit.select_offer()\n",
    "    \n",
    "    send_klaviyo_email(customer[\"email\"], offer)\n",
    "    send_whatsapp(customer[\"phone\"], customer[\"name\"], offer)\n",
    "\n",
    "    # Simulate click/response\n",
    "    bandit.update_result(offer, success=random.choice([0, 1]))"
   ]
  }
 ],
 "metadata": {
  "kernelspec": {
   "display_name": "Python 3 (ipykernel)",
   "language": "python",
   "name": "python3"
  },
  "language_info": {
   "codemirror_mode": {
    "name": "ipython",
    "version": 3
   },
   "file_extension": ".py",
   "mimetype": "text/x-python",
   "name": "python",
   "nbconvert_exporter": "python",
   "pygments_lexer": "ipython3",
   "version": "3.12.4"
  }
 },
 "nbformat": 4,
 "nbformat_minor": 5
}
